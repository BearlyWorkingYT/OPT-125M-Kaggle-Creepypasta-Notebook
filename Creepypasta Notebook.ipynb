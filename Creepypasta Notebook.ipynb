{
 "cells": [
  {
   "cell_type": "markdown",
   "id": "f74d8143",
   "metadata": {},
   "source": [
    "Generation Cell."
   ]
  },
  {
   "cell_type": "code",
   "execution_count": 1,
   "id": "b20e4a11",
   "metadata": {},
   "outputs": [],
   "source": [
    "#If running this cell gives you an error. Install torch, pandas and transformers using pip or conda.\n",
    "#It is recommended you use conda for this notebook.\n",
    "import torch\n",
    "import pandas as pd \n",
    "from transformers import Trainer, AutoModelForCausalLM, AutoTokenizer, TrainingArguments\n",
    "\n",
    "#Set to \"CPU\" if your graphics card doesn't have enough VRAM.\n",
    "device = torch.device(\"cuda\")\n",
    "    \n",
    "#Generates outputs.\n",
    "def generate_story(prompt, max_length=512, min_length=512, temperature=0.7):\n",
    "    print(\"Generating: \" + prompt)\n",
    "    \n",
    "    generated = tokenizer(prompt, return_tensors=\"pt\", add_special_tokens=False).input_ids\n",
    "    sample_outputs = model.generate(generated.to(device), temperature=temperature, do_sample=True, num_return_sequences=5, max_length=max_length, min_length=min_length)\n",
    "    output_texts = []\n",
    "\n",
    "    for i, sample_output in enumerate(sample_outputs): \n",
    "        output_text = tokenizer.decode(sample_output, skip_special_tokens=True)\n",
    "        #print(output_text + \"\\n\")\n",
    "        output_texts.append(output_text)\n",
    "\n",
    "    return output_texts"
   ]
  },
  {
   "cell_type": "markdown",
   "id": "84c8949b",
   "metadata": {},
   "source": [
    "Loads models. (Run This cell and the cell above.)"
   ]
  },
  {
   "cell_type": "code",
   "execution_count": 2,
   "id": "a426bcf9",
   "metadata": {},
   "outputs": [],
   "source": [
    "from transformers import GPT2Tokenizer, OPTForCausalLM\n",
    "\n",
    "#Don't change either of these.\n",
    "model_name = \"BearlyWorkingYT/OPT-125M-Warriors-TPB\"\n",
    "tokenizer_name = \"BearlyWorkingYT/OPT-125M-Warriors-TPB\"\n",
    "\n",
    "model = OPTForCausalLM.from_pretrained(model_name).to(device)\n",
    "tokenizer = GPT2Tokenizer.from_pretrained(tokenizer_name, use_fast=False)"
   ]
  },
  {
   "cell_type": "markdown",
   "id": "8476ef40",
   "metadata": {},
   "source": [
    "Generates story from model."
   ]
  },
  {
   "cell_type": "code",
   "execution_count": 3,
   "id": "6a8ff338",
   "metadata": {},
   "outputs": [],
   "source": [
    "from transformers import GPT2Tokenizer, OPTForCausalLM\n",
    "\n",
    "#Edit this prompt to control generation.\n",
    "prompt = \"</s>Chapter 1.\"\n",
    "\n",
    "#Adjusted temperature to control randomness of generation.\n",
    "generate_story(prompt, max_length=128, min_length=64, temperature=0.4)"
   ]
  },
  {
   "cell_type": "code",
   "execution_count": null,
   "id": "9f396ea7",
   "metadata": {},
   "outputs": [],
   "source": []
  }
 ],
 "metadata": {
  "kernelspec": {
   "display_name": "Python 3 (ipykernel)",
   "language": "python",
   "name": "python3"
  },
  "language_info": {
   "codemirror_mode": {
    "name": "ipython",
    "version": 3
   },
   "file_extension": ".py",
   "mimetype": "text/x-python",
   "name": "python",
   "nbconvert_exporter": "python",
   "pygments_lexer": "ipython3",
   "version": "3.8.13"
  }
 },
 "nbformat": 4,
 "nbformat_minor": 5
}
